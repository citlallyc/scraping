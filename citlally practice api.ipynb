{
 "cells": [
  {
   "cell_type": "markdown",
   "id": "c00e3f9b",
   "metadata": {},
   "source": [
    "### reading data using API and web scraping."
   ]
  },
  {
   "cell_type": "markdown",
   "id": "95c47330",
   "metadata": {},
   "source": [
    "Import the `nltk.corpus` submodule, download the Project Gutenberg. PRACTICING:\n",
    "* Split the document into sentences, take out the first 20 sentences, print out the first 20 sentences\n",
    "* Split the first 20 sentences into words\n",
    "* Standardizing Text:\n",
    "    * Lowercasing the first 20 sentences\n",
    "    * Remove prefixes and suffixes from words through lemmatization\n",
    "    * Remove tokens that don't contribute meaning\n",
    "    * Plot the frequency distribution for tokens"
   ]
  },
  {
   "cell_type": "code",
   "execution_count": 21,
   "id": "d98cb4c9",
   "metadata": {},
   "outputs": [],
   "source": [
    "import numpy as np\n",
    "import pandas as pd\n",
    "\n",
    "import nltk\n",
    "import nltk.corpus\n",
    "\n",
    "#nltk.download(\"gutenberg\")\n",
    "\n",
    "#nltk.download(\"punkt\")"
   ]
  },
  {
   "cell_type": "code",
   "execution_count": 22,
   "id": "6df8b88e",
   "metadata": {},
   "outputs": [
    {
     "data": {
      "text/plain": [
       "['austen-emma.txt',\n",
       " 'austen-persuasion.txt',\n",
       " 'austen-sense.txt',\n",
       " 'bible-kjv.txt',\n",
       " 'blake-poems.txt',\n",
       " 'bryant-stories.txt',\n",
       " 'burgess-busterbrown.txt',\n",
       " 'carroll-alice.txt',\n",
       " 'chesterton-ball.txt',\n",
       " 'chesterton-brown.txt',\n",
       " 'chesterton-thursday.txt',\n",
       " 'edgeworth-parents.txt',\n",
       " 'melville-moby_dick.txt',\n",
       " 'milton-paradise.txt',\n",
       " 'shakespeare-caesar.txt',\n",
       " 'shakespeare-hamlet.txt',\n",
       " 'shakespeare-macbeth.txt',\n",
       " 'whitman-leaves.txt']"
      ]
     },
     "execution_count": 22,
     "metadata": {},
     "output_type": "execute_result"
    }
   ],
   "source": [
    "nltk.corpus.gutenberg.fileids()"
   ]
  },
  {
   "cell_type": "markdown",
   "id": "2e108be5",
   "metadata": {},
   "source": [
    "Choosing `shakespeare-hamlet.txt`"
   ]
  },
  {
   "cell_type": "code",
   "execution_count": 24,
   "id": "260b246c",
   "metadata": {},
   "outputs": [],
   "source": [
    "hamlet = nltk.corpus.gutenberg.raw('shakespeare-hamlet.txt')\n",
    "#Using .raw() to return the raw text for a single document by specifying file name."
   ]
  },
  {
   "cell_type": "code",
   "execution_count": 25,
   "id": "09e95d06",
   "metadata": {},
   "outputs": [
    {
     "name": "stdout",
     "output_type": "stream",
     "text": [
      "['[The Tragedie of Hamlet by William Shakespeare 1599]\\n\\n\\nActus Primus.', 'Scoena Prima.', 'Enter Barnardo and Francisco two Centinels.', 'Barnardo.', \"Who's there?\", 'Fran.', 'Nay answer me: Stand & vnfold\\nyour selfe\\n\\n   Bar.', 'Long liue the King\\n\\n   Fran.', 'Barnardo?', 'Bar.', 'He\\n\\n   Fran.', 'You come most carefully vpon your houre\\n\\n   Bar.', \"'Tis now strook twelue, get thee to bed Francisco\\n\\n   Fran.\", \"For this releefe much thankes: 'Tis bitter cold,\\nAnd I am sicke at heart\\n\\n   Barn.\", 'Haue you had quiet Guard?', 'Fran.', 'Not a Mouse stirring\\n\\n   Barn.', 'Well, goodnight.', 'If you do meet Horatio and\\nMarcellus, the Riuals of my Watch, bid them make hast.', 'Enter Horatio and Marcellus.']\n"
     ]
    }
   ],
   "source": [
    "#Split the document into sentences, take out the first 20 sentences, print out the first 20 sentences\n",
    "#Splitting the document into tokens\n",
    "ham_sent = nltk.sent_tokenize(hamlet)[:20]\n",
    "\n",
    "print(ham_sent)"
   ]
  },
  {
   "cell_type": "code",
   "execution_count": 26,
   "id": "6464b07e",
   "metadata": {},
   "outputs": [
    {
     "data": {
      "text/plain": [
       "['[',\n",
       " 'The',\n",
       " 'Tragedie',\n",
       " 'of',\n",
       " 'Hamlet',\n",
       " 'by',\n",
       " 'William',\n",
       " 'Shakespeare',\n",
       " '1599',\n",
       " ']',\n",
       " 'Actus',\n",
       " 'Primus',\n",
       " '.',\n",
       " 'Scoena',\n",
       " 'Prima',\n",
       " '.',\n",
       " 'Enter',\n",
       " 'Barnardo',\n",
       " 'and',\n",
       " 'Francisco',\n",
       " 'two',\n",
       " 'Centinels',\n",
       " '.',\n",
       " 'Barnardo',\n",
       " '.',\n",
       " 'Who',\n",
       " \"'s\",\n",
       " 'there',\n",
       " '?',\n",
       " 'Fran',\n",
       " '.',\n",
       " 'Nay',\n",
       " 'answer',\n",
       " 'me',\n",
       " ':',\n",
       " 'Stand',\n",
       " '&',\n",
       " 'vnfold',\n",
       " 'your',\n",
       " 'selfe',\n",
       " 'Bar',\n",
       " '.',\n",
       " 'Long',\n",
       " 'liue',\n",
       " 'the',\n",
       " 'King',\n",
       " 'Fran',\n",
       " '.',\n",
       " 'Barnardo',\n",
       " '?',\n",
       " 'Bar',\n",
       " '.',\n",
       " 'He',\n",
       " 'Fran',\n",
       " '.',\n",
       " 'You',\n",
       " 'come',\n",
       " 'most',\n",
       " 'carefully',\n",
       " 'vpon',\n",
       " 'your',\n",
       " 'houre',\n",
       " 'Bar',\n",
       " '.',\n",
       " \"'T\",\n",
       " 'is',\n",
       " 'now',\n",
       " 'strook',\n",
       " 'twelue',\n",
       " ',',\n",
       " 'get',\n",
       " 'thee',\n",
       " 'to',\n",
       " 'bed',\n",
       " 'Francisco',\n",
       " 'Fran',\n",
       " '.',\n",
       " 'For',\n",
       " 'this',\n",
       " 'releefe',\n",
       " 'much',\n",
       " 'thankes',\n",
       " ':',\n",
       " \"'T\",\n",
       " 'is',\n",
       " 'bitter',\n",
       " 'cold',\n",
       " ',',\n",
       " 'And',\n",
       " 'I',\n",
       " 'am',\n",
       " 'sicke',\n",
       " 'at',\n",
       " 'heart',\n",
       " 'Barn',\n",
       " '.',\n",
       " 'Haue',\n",
       " 'you',\n",
       " 'had',\n",
       " 'quiet',\n",
       " 'Guard',\n",
       " '?',\n",
       " 'Fran',\n",
       " '.',\n",
       " 'Not',\n",
       " 'a',\n",
       " 'Mouse',\n",
       " 'stirring',\n",
       " 'Barn',\n",
       " '.',\n",
       " 'Well',\n",
       " ',',\n",
       " 'goodnight',\n",
       " '.',\n",
       " 'If',\n",
       " 'you',\n",
       " 'do',\n",
       " 'meet',\n",
       " 'Horatio',\n",
       " 'and',\n",
       " 'Marcellus',\n",
       " ',',\n",
       " 'the',\n",
       " 'Riuals',\n",
       " 'of',\n",
       " 'my',\n",
       " 'Watch',\n",
       " ',',\n",
       " 'bid',\n",
       " 'them',\n",
       " 'make',\n",
       " 'hast',\n",
       " '.',\n",
       " 'Enter',\n",
       " 'Horatio',\n",
       " 'and',\n",
       " 'Marcellus',\n",
       " '.']"
      ]
     },
     "execution_count": 26,
     "metadata": {},
     "output_type": "execute_result"
    }
   ],
   "source": [
    "#Split the first 20 sentences into words\n",
    "\n",
    "\n",
    "#ham_sent is a list, to create a string I must use the .join() method.\n",
    "ham_20 = ' '.join(ham_sent)\n",
    "\n",
    "ham_word = nltk.word_tokenize(ham_20)\n",
    "\n",
    "ham_word"
   ]
  },
  {
   "cell_type": "code",
   "execution_count": 27,
   "id": "f1dbb511",
   "metadata": {},
   "outputs": [
    {
     "name": "stdout",
     "output_type": "stream",
     "text": [
      "[the tragedie of hamlet by william shakespeare 1599]\n",
      "\n",
      "\n",
      "actus primus. scoena prima. enter barnardo and francisco two centinels. barnardo. who's there? fran. nay answer me: stand & vnfold\n",
      "your selfe\n",
      "\n",
      "   bar. long liue the king\n",
      "\n",
      "   fran. barnardo? bar. he\n",
      "\n",
      "   fran. you come most carefully vpon your houre\n",
      "\n",
      "   bar. 'tis now strook twelue, get thee to bed francisco\n",
      "\n",
      "   fran. for this releefe much thankes: 'tis bitter cold,\n",
      "and i am sicke at heart\n",
      "\n",
      "   barn. haue you had quiet guard? fran. not a mouse stirring\n",
      "\n",
      "   barn. well, goodnight. if you do meet horatio and\n",
      "marcellus, the riuals of my watch, bid them make hast. enter horatio and marcellus.\n"
     ]
    }
   ],
   "source": [
    "#Standardizing Text:\n",
    "\n",
    "# Lowercasing the first 20 sentences\n",
    "\n",
    "free = ham_20.lower()\n",
    "\n",
    "print(free)"
   ]
  },
  {
   "cell_type": "code",
   "execution_count": 8,
   "id": "4bfba0c3",
   "metadata": {},
   "outputs": [],
   "source": [
    "free1 = nltk.word_tokenize(free)\n",
    "\n",
    "#Here I am word tokenizing my vector 'free'."
   ]
  },
  {
   "cell_type": "code",
   "execution_count": 9,
   "id": "2d9c7250",
   "metadata": {},
   "outputs": [
    {
     "name": "stdout",
     "output_type": "stream",
     "text": [
      "Actual: [  Stem: [\n",
      "Actual: the  Stem: the\n",
      "Actual: tragedie  Stem: tragedi\n",
      "Actual: of  Stem: of\n",
      "Actual: hamlet  Stem: hamlet\n",
      "Actual: by  Stem: by\n",
      "Actual: william  Stem: william\n",
      "Actual: shakespeare  Stem: shakespear\n",
      "Actual: 1599  Stem: 1599\n",
      "Actual: ]  Stem: ]\n",
      "Actual: actus  Stem: actu\n",
      "Actual: primus  Stem: primu\n",
      "Actual: .  Stem: .\n",
      "Actual: scoena  Stem: scoena\n",
      "Actual: prima  Stem: prima\n",
      "Actual: .  Stem: .\n",
      "Actual: enter  Stem: enter\n",
      "Actual: barnardo  Stem: barnardo\n",
      "Actual: and  Stem: and\n",
      "Actual: francisco  Stem: francisco\n",
      "Actual: two  Stem: two\n",
      "Actual: centinels  Stem: centinel\n",
      "Actual: .  Stem: .\n",
      "Actual: barnardo  Stem: barnardo\n",
      "Actual: .  Stem: .\n",
      "Actual: who  Stem: who\n",
      "Actual: 's  Stem: 's\n",
      "Actual: there  Stem: there\n",
      "Actual: ?  Stem: ?\n",
      "Actual: fran  Stem: fran\n",
      "Actual: .  Stem: .\n",
      "Actual: nay  Stem: nay\n",
      "Actual: answer  Stem: answer\n",
      "Actual: me  Stem: me\n",
      "Actual: :  Stem: :\n",
      "Actual: stand  Stem: stand\n",
      "Actual: &  Stem: &\n",
      "Actual: vnfold  Stem: vnfold\n",
      "Actual: your  Stem: your\n",
      "Actual: selfe  Stem: self\n",
      "Actual: bar  Stem: bar\n",
      "Actual: .  Stem: .\n",
      "Actual: long  Stem: long\n",
      "Actual: liue  Stem: liue\n",
      "Actual: the  Stem: the\n",
      "Actual: king  Stem: king\n",
      "Actual: fran  Stem: fran\n",
      "Actual: .  Stem: .\n",
      "Actual: barnardo  Stem: barnardo\n",
      "Actual: ?  Stem: ?\n",
      "Actual: bar  Stem: bar\n",
      "Actual: .  Stem: .\n",
      "Actual: he  Stem: he\n",
      "Actual: fran  Stem: fran\n",
      "Actual: .  Stem: .\n",
      "Actual: you  Stem: you\n",
      "Actual: come  Stem: come\n",
      "Actual: most  Stem: most\n",
      "Actual: carefully  Stem: care\n",
      "Actual: vpon  Stem: vpon\n",
      "Actual: your  Stem: your\n",
      "Actual: houre  Stem: hour\n",
      "Actual: bar  Stem: bar\n",
      "Actual: .  Stem: .\n",
      "Actual: 't  Stem: 't\n",
      "Actual: is  Stem: is\n",
      "Actual: now  Stem: now\n",
      "Actual: strook  Stem: strook\n",
      "Actual: twelue  Stem: twelu\n",
      "Actual: ,  Stem: ,\n",
      "Actual: get  Stem: get\n",
      "Actual: thee  Stem: thee\n",
      "Actual: to  Stem: to\n",
      "Actual: bed  Stem: bed\n",
      "Actual: francisco  Stem: francisco\n",
      "Actual: fran  Stem: fran\n",
      "Actual: .  Stem: .\n",
      "Actual: for  Stem: for\n",
      "Actual: this  Stem: thi\n",
      "Actual: releefe  Stem: releef\n",
      "Actual: much  Stem: much\n",
      "Actual: thankes  Stem: thank\n",
      "Actual: :  Stem: :\n",
      "Actual: 't  Stem: 't\n",
      "Actual: is  Stem: is\n",
      "Actual: bitter  Stem: bitter\n",
      "Actual: cold  Stem: cold\n",
      "Actual: ,  Stem: ,\n",
      "Actual: and  Stem: and\n",
      "Actual: i  Stem: i\n",
      "Actual: am  Stem: am\n",
      "Actual: sicke  Stem: sick\n",
      "Actual: at  Stem: at\n",
      "Actual: heart  Stem: heart\n",
      "Actual: barn  Stem: barn\n",
      "Actual: .  Stem: .\n",
      "Actual: haue  Stem: haue\n",
      "Actual: you  Stem: you\n",
      "Actual: had  Stem: had\n",
      "Actual: quiet  Stem: quiet\n",
      "Actual: guard  Stem: guard\n",
      "Actual: ?  Stem: ?\n",
      "Actual: fran  Stem: fran\n",
      "Actual: .  Stem: .\n",
      "Actual: not  Stem: not\n",
      "Actual: a  Stem: a\n",
      "Actual: mouse  Stem: mous\n",
      "Actual: stirring  Stem: stir\n",
      "Actual: barn  Stem: barn\n",
      "Actual: .  Stem: .\n",
      "Actual: well  Stem: well\n",
      "Actual: ,  Stem: ,\n",
      "Actual: goodnight  Stem: goodnight\n",
      "Actual: .  Stem: .\n",
      "Actual: if  Stem: if\n",
      "Actual: you  Stem: you\n",
      "Actual: do  Stem: do\n",
      "Actual: meet  Stem: meet\n",
      "Actual: horatio  Stem: horatio\n",
      "Actual: and  Stem: and\n",
      "Actual: marcellus  Stem: marcellu\n",
      "Actual: ,  Stem: ,\n",
      "Actual: the  Stem: the\n",
      "Actual: riuals  Stem: riual\n",
      "Actual: of  Stem: of\n",
      "Actual: my  Stem: my\n",
      "Actual: watch  Stem: watch\n",
      "Actual: ,  Stem: ,\n",
      "Actual: bid  Stem: bid\n",
      "Actual: them  Stem: them\n",
      "Actual: make  Stem: make\n",
      "Actual: hast  Stem: hast\n",
      "Actual: .  Stem: .\n",
      "Actual: enter  Stem: enter\n",
      "Actual: horatio  Stem: horatio\n",
      "Actual: and  Stem: and\n",
      "Actual: marcellus  Stem: marcellu\n",
      "Actual: .  Stem: .\n"
     ]
    },
    {
     "data": {
      "text/plain": [
       "'This for loop we are comparing actual tokenized words and their stems as it removes\\nthe affixes. %s will concatonate the strings so we can see actual vs. stem'"
      ]
     },
     "execution_count": 9,
     "metadata": {},
     "output_type": "execute_result"
    }
   ],
   "source": [
    "#Standardizing Text:\n",
    "# Remove prefixes and suffixes from words through lemmatization\n",
    "\n",
    "#nltk.download('wordnet')\n",
    "\n",
    "from nltk.stem import WordNetLemmatizer\n",
    "from nltk.stem.porter import PorterStemmer\n",
    "\n",
    "#here I am importing the porterstemmer to help me utilize stemming which is a part of lemmanization. \n",
    "\n",
    "port_stem = PorterStemmer()  #Here I am named port_stem as my vector for this function\n",
    "\n",
    "lemmatizer = nltk.WordNetLemmatizer()\n",
    "#nltk.download('averaged_perceptron_tagger')\n",
    "\n",
    "for ag in free1:\n",
    "       print (\"Actual: %s  Stem: %s\"  % (ag,port_stem.stem(ag)))\n",
    "        \n",
    "'''This for loop we are comparing actual tokenized words and their stems as it removes\n",
    "the affixes. %s will concatonate the strings so we can see actual vs. stem'''\n"
   ]
  },
  {
   "cell_type": "code",
   "execution_count": 29,
   "id": "2324dbb3",
   "metadata": {},
   "outputs": [
    {
     "data": {
      "text/plain": [
       "['[',\n",
       " 'tragedie',\n",
       " 'hamlet',\n",
       " 'william',\n",
       " 'shakespeare',\n",
       " '1599',\n",
       " ']',\n",
       " 'actus',\n",
       " 'primus',\n",
       " '.',\n",
       " 'scoena',\n",
       " 'prima',\n",
       " '.',\n",
       " 'enter',\n",
       " 'barnardo',\n",
       " 'francisco',\n",
       " 'two',\n",
       " 'centinels',\n",
       " '.',\n",
       " 'barnardo',\n",
       " '.',\n",
       " \"'s\",\n",
       " '?',\n",
       " 'fran',\n",
       " '.',\n",
       " 'nay',\n",
       " 'answer',\n",
       " ':',\n",
       " 'stand',\n",
       " '&',\n",
       " 'vnfold',\n",
       " 'selfe',\n",
       " 'bar',\n",
       " '.',\n",
       " 'long',\n",
       " 'liue',\n",
       " 'king',\n",
       " 'fran',\n",
       " '.',\n",
       " 'barnardo',\n",
       " '?',\n",
       " 'bar',\n",
       " '.',\n",
       " 'fran',\n",
       " '.',\n",
       " 'come',\n",
       " 'carefully',\n",
       " 'vpon',\n",
       " 'houre',\n",
       " 'bar',\n",
       " '.',\n",
       " \"'t\",\n",
       " 'strook',\n",
       " 'twelue',\n",
       " ',',\n",
       " 'get',\n",
       " 'thee',\n",
       " 'bed',\n",
       " 'francisco',\n",
       " 'fran',\n",
       " '.',\n",
       " 'releefe',\n",
       " 'much',\n",
       " 'thankes',\n",
       " ':',\n",
       " \"'t\",\n",
       " 'bitter',\n",
       " 'cold',\n",
       " ',',\n",
       " 'sicke',\n",
       " 'heart',\n",
       " 'barn',\n",
       " '.',\n",
       " 'haue',\n",
       " 'quiet',\n",
       " 'guard',\n",
       " '?',\n",
       " 'fran',\n",
       " '.',\n",
       " 'mouse',\n",
       " 'stirring',\n",
       " 'barn',\n",
       " '.',\n",
       " 'well',\n",
       " ',',\n",
       " 'goodnight',\n",
       " '.',\n",
       " 'meet',\n",
       " 'horatio',\n",
       " 'marcellus',\n",
       " ',',\n",
       " 'riuals',\n",
       " 'watch',\n",
       " ',',\n",
       " 'bid',\n",
       " 'make',\n",
       " 'hast',\n",
       " '.',\n",
       " 'enter',\n",
       " 'horatio',\n",
       " 'marcellus',\n",
       " '.']"
      ]
     },
     "execution_count": 29,
     "metadata": {},
     "output_type": "execute_result"
    }
   ],
   "source": [
    "#Standardizing Text:\n",
    "# Remove tokens that don't contribute meaning\n",
    "\n",
    "#nltk.download('stopwords')\n",
    "stopwords = nltk.corpus.stopwords.words(\"english\")\n",
    "\n",
    "#utilizing the vector from class notes: Week 6-2\n",
    "\n",
    "rem = [w for w in free1 if w not in stopwords]\n",
    "\n",
    "rem"
   ]
  },
  {
   "cell_type": "code",
   "execution_count": 30,
   "id": "56df64f6",
   "metadata": {},
   "outputs": [
    {
     "data": {
      "text/plain": [
       "FreqDist({'fran': 5, 'barnardo': 3, 'bar': 3, 'enter': 2, 'francisco': 2, 'barn': 2, 'horatio': 2, 'marcellus': 2, 'tragedie': 1, 'hamlet': 1, ...})"
      ]
     },
     "execution_count": 30,
     "metadata": {},
     "output_type": "execute_result"
    }
   ],
   "source": [
    "#Standardizing Text:\n",
    "# Plot the frequency distribution for tokens\n",
    "\n",
    "oi = [w for w in rem]\n",
    "fq = nltk.FreqDist(w for w in oi if w.isalnum())\n",
    "fq\n",
    "\n"
   ]
  },
  {
   "cell_type": "code",
   "execution_count": 31,
   "id": "d12cf14f",
   "metadata": {},
   "outputs": [
    {
     "data": {
      "text/plain": [
       "[('fran', 5),\n",
       " ('barnardo', 3),\n",
       " ('bar', 3),\n",
       " ('enter', 2),\n",
       " ('francisco', 2),\n",
       " ('barn', 2),\n",
       " ('horatio', 2),\n",
       " ('marcellus', 2),\n",
       " ('tragedie', 1),\n",
       " ('hamlet', 1),\n",
       " ('william', 1),\n",
       " ('shakespeare', 1),\n",
       " ('1599', 1),\n",
       " ('actus', 1),\n",
       " ('primus', 1)]"
      ]
     },
     "execution_count": 31,
     "metadata": {},
     "output_type": "execute_result"
    }
   ],
   "source": [
    "fq.most_common(15)  #Found the 15 most common words. "
   ]
  },
  {
   "cell_type": "code",
   "execution_count": 32,
   "id": "7d297a54",
   "metadata": {},
   "outputs": [
    {
     "data": {
      "image/png": "[encoded data removed]",
      "text/plain": [
       "<Figure size 432x288 with 1 Axes>"
      ]
     },
     "metadata": {
      "needs_background": "light"
     },
     "output_type": "display_data"
    },
    {
     "data": {
      "image/png": "[encoded data removed]",
      "text/plain": [
       "<Figure size 432x288 with 1 Axes>"
      ]
     },
     "metadata": {
      "needs_background": "light"
     },
     "output_type": "display_data"
    },
    {
     "data": {
      "text/plain": [
       "<AxesSubplot:xlabel='Samples', ylabel='Counts'>"
      ]
     },
     "execution_count": 32,
     "metadata": {},
     "output_type": "execute_result"
    }
   ],
   "source": [
    "%matplotlib inline\n",
    "fq.plot(35, cumulative = True)\n",
    "fq.plot()"
   ]
  },
  {
   "cell_type": "markdown",
   "id": "a142483a",
   "metadata": {},
   "source": [
    "Practicing\n",
    "\n",
    "Take out three sentences from the shakespeare document earlier."
   ]
  },
  {
   "cell_type": "code",
   "execution_count": 33,
   "id": "0e21465d",
   "metadata": {},
   "outputs": [
    {
     "data": {
      "text/plain": [
       "list"
      ]
     },
     "execution_count": 33,
     "metadata": {},
     "output_type": "execute_result"
    }
   ],
   "source": [
    "# Take out three sentences from the shakespeare document earlier\n",
    "\n",
    "ham_3 = nltk.sent_tokenize(hamlet)[12:15]\n",
    "ham_3\n",
    "\n",
    "type(ham_3)"
   ]
  },
  {
   "cell_type": "code",
   "execution_count": 34,
   "id": "cb1f456f",
   "metadata": {},
   "outputs": [
    {
     "data": {
      "text/plain": [
       "<3x28 sparse matrix of type '<class 'numpy.int64'>'\n",
       "\twith 29 stored elements in Compressed Sparse Row format>"
      ]
     },
     "execution_count": 34,
     "metadata": {},
     "output_type": "execute_result"
    }
   ],
   "source": [
    "# compute the word frequencies for this small corpus using the scikit-learn package; \n",
    "from sklearn.feature_extraction.text import CountVectorizer\n",
    "\n",
    "vector = CountVectorizer()  #This will tell the vector to read the data \n",
    "\n",
    "#ham_4 = ' '.join(ham_3)\n",
    "#I created a for loop that takes an empty string and adds it to every element in ham_3\n",
    "empt = ''\n",
    "\n",
    "for i in ham_3:\n",
    "    empt += '' + i\n",
    "\n",
    "mtrx = vector.fit_transform(ham_3)\n",
    "\n",
    "mtrx\n",
    "\n",
    "\n",
    "#below were past attempts that I am saving. \n",
    "#mtrx = vector.fit_transform([ham_4])  #send list through to read.\n",
    "\n",
    "# used fit_transform() to find and count all words\n",
    "#mtrx"
   ]
  },
  {
   "cell_type": "code",
   "execution_count": 35,
   "id": "ef24aa95",
   "metadata": {},
   "outputs": [
    {
     "data": {
      "text/html": [
       "<div>\n",
       "<style scoped>\n",
       "    .dataframe tbody tr th:only-of-type {\n",
       "        vertical-align: middle;\n",
       "    }\n",
       "\n",
       "    .dataframe tbody tr th {\n",
       "        vertical-align: top;\n",
       "    }\n",
       "\n",
       "    .dataframe thead th {\n",
       "        text-align: right;\n",
       "    }\n",
       "</style>\n",
       "<table border=\"1\" class=\"dataframe\">\n",
       "  <thead>\n",
       "    <tr style=\"text-align: right;\">\n",
       "      <th></th>\n",
       "      <th>am</th>\n",
       "      <th>and</th>\n",
       "      <th>at</th>\n",
       "      <th>barn</th>\n",
       "      <th>bed</th>\n",
       "      <th>bitter</th>\n",
       "      <th>cold</th>\n",
       "      <th>for</th>\n",
       "      <th>fran</th>\n",
       "      <th>francisco</th>\n",
       "      <th>...</th>\n",
       "      <th>releefe</th>\n",
       "      <th>sicke</th>\n",
       "      <th>strook</th>\n",
       "      <th>thankes</th>\n",
       "      <th>thee</th>\n",
       "      <th>this</th>\n",
       "      <th>tis</th>\n",
       "      <th>to</th>\n",
       "      <th>twelue</th>\n",
       "      <th>you</th>\n",
       "    </tr>\n",
       "  </thead>\n",
       "  <tbody>\n",
       "    <tr>\n",
       "      <th>0</th>\n",
       "      <td>0</td>\n",
       "      <td>0</td>\n",
       "      <td>0</td>\n",
       "      <td>0</td>\n",
       "      <td>1</td>\n",
       "      <td>0</td>\n",
       "      <td>0</td>\n",
       "      <td>0</td>\n",
       "      <td>1</td>\n",
       "      <td>1</td>\n",
       "      <td>...</td>\n",
       "      <td>0</td>\n",
       "      <td>0</td>\n",
       "      <td>1</td>\n",
       "      <td>0</td>\n",
       "      <td>1</td>\n",
       "      <td>0</td>\n",
       "      <td>1</td>\n",
       "      <td>1</td>\n",
       "      <td>1</td>\n",
       "      <td>0</td>\n",
       "    </tr>\n",
       "    <tr>\n",
       "      <th>1</th>\n",
       "      <td>1</td>\n",
       "      <td>1</td>\n",
       "      <td>1</td>\n",
       "      <td>1</td>\n",
       "      <td>0</td>\n",
       "      <td>1</td>\n",
       "      <td>1</td>\n",
       "      <td>1</td>\n",
       "      <td>0</td>\n",
       "      <td>0</td>\n",
       "      <td>...</td>\n",
       "      <td>1</td>\n",
       "      <td>1</td>\n",
       "      <td>0</td>\n",
       "      <td>1</td>\n",
       "      <td>0</td>\n",
       "      <td>1</td>\n",
       "      <td>1</td>\n",
       "      <td>0</td>\n",
       "      <td>0</td>\n",
       "      <td>0</td>\n",
       "    </tr>\n",
       "    <tr>\n",
       "      <th>2</th>\n",
       "      <td>0</td>\n",
       "      <td>0</td>\n",
       "      <td>0</td>\n",
       "      <td>0</td>\n",
       "      <td>0</td>\n",
       "      <td>0</td>\n",
       "      <td>0</td>\n",
       "      <td>0</td>\n",
       "      <td>0</td>\n",
       "      <td>0</td>\n",
       "      <td>...</td>\n",
       "      <td>0</td>\n",
       "      <td>0</td>\n",
       "      <td>0</td>\n",
       "      <td>0</td>\n",
       "      <td>0</td>\n",
       "      <td>0</td>\n",
       "      <td>0</td>\n",
       "      <td>0</td>\n",
       "      <td>0</td>\n",
       "      <td>1</td>\n",
       "    </tr>\n",
       "  </tbody>\n",
       "</table>\n",
       "<p>3 rows × 28 columns</p>\n",
       "</div>"
      ],
      "text/plain": [
       "   am  and  at  barn  bed  bitter  cold  for  fran  francisco  ...  releefe  \\\n",
       "0   0    0   0     0    1       0     0    0     1          1  ...        0   \n",
       "1   1    1   1     1    0       1     1    1     0          0  ...        1   \n",
       "2   0    0   0     0    0       0     0    0     0          0  ...        0   \n",
       "\n",
       "   sicke  strook  thankes  thee  this  tis  to  twelue  you  \n",
       "0      0       1        0     1     0    1   1       1    0  \n",
       "1      1       0        1     0     1    1   0       0    0  \n",
       "2      0       0        0     0     0    0   0       0    1  \n",
       "\n",
       "[3 rows x 28 columns]"
      ]
     },
     "execution_count": 35,
     "metadata": {},
     "output_type": "execute_result"
    }
   ],
   "source": [
    "#convert the output to a data frame and add column names as their features names\n",
    "\n",
    "#I imported pandas to output a clean matrix. \n",
    "\n",
    "import pandas as pd\n",
    "\n",
    "freq = pd.DataFrame(mtrx.toarray(), columns = vector.get_feature_names())\n",
    "\n",
    "freq"
   ]
  },
  {
   "cell_type": "code",
   "execution_count": 36,
   "id": "1749da18",
   "metadata": {},
   "outputs": [
    {
     "data": {
      "text/plain": [
       "matrix([[0, 0, 0, 0, 1, 0, 0, 0, 1, 1, 1, 0, 0, 0, 0, 0, 1, 0, 0, 0, 1,\n",
       "         0, 1, 0, 1, 1, 1, 0],\n",
       "        [1, 1, 1, 1, 0, 1, 1, 1, 0, 0, 0, 0, 0, 0, 1, 1, 0, 0, 1, 1, 0,\n",
       "         1, 0, 1, 1, 0, 0, 0],\n",
       "        [0, 0, 0, 0, 0, 0, 0, 0, 0, 0, 0, 1, 1, 1, 0, 0, 0, 1, 0, 0, 0,\n",
       "         0, 0, 0, 0, 0, 0, 1]])"
      ]
     },
     "execution_count": 36,
     "metadata": {},
     "output_type": "execute_result"
    }
   ],
   "source": [
    "# do the same as in 1. using one-hot encoding\n",
    "\n",
    "from sklearn.preprocessing import Binarizer\n",
    "\n",
    "binarizer = Binarizer()\n",
    "ohot = binarizer.fit_transform(mtrx)\n",
    "ohot.todense()\n"
   ]
  },
  {
   "cell_type": "code",
   "execution_count": 37,
   "id": "c09ea67d",
   "metadata": {},
   "outputs": [
    {
     "data": {
      "text/plain": [
       "matrix([[0.22610677, 0.22610677, 0.22610677, 0.        , 0.        ,\n",
       "         0.        , 0.        , 0.        , 0.        , 0.29730323,\n",
       "         0.        , 0.        , 0.        , 0.29730323, 0.29730323,\n",
       "         0.29730323, 0.        , 0.        , 0.        , 0.        ,\n",
       "         0.        , 0.22610677, 0.        , 0.29730323, 0.        ,\n",
       "         0.        , 0.        , 0.29730323, 0.        , 0.29730323,\n",
       "         0.        , 0.29730323, 0.29730323, 0.        ],\n",
       "        [0.18277647, 0.18277647, 0.18277647, 0.24032909, 0.        ,\n",
       "         0.24032909, 0.24032909, 0.24032909, 0.24032909, 0.        ,\n",
       "         0.24032909, 0.24032909, 0.24032909, 0.        , 0.        ,\n",
       "         0.        , 0.        , 0.        , 0.        , 0.24032909,\n",
       "         0.24032909, 0.18277647, 0.24032909, 0.        , 0.        ,\n",
       "         0.24032909, 0.24032909, 0.        , 0.24032909, 0.        ,\n",
       "         0.24032909, 0.        , 0.        , 0.        ],\n",
       "        [0.        , 0.        , 0.        , 0.        , 0.40824829,\n",
       "         0.        , 0.        , 0.        , 0.        , 0.        ,\n",
       "         0.        , 0.        , 0.        , 0.        , 0.        ,\n",
       "         0.        , 0.40824829, 0.40824829, 0.40824829, 0.        ,\n",
       "         0.        , 0.        , 0.        , 0.        , 0.40824829,\n",
       "         0.        , 0.        , 0.        , 0.        , 0.        ,\n",
       "         0.        , 0.        , 0.        , 0.40824829]])"
      ]
     },
     "execution_count": 37,
     "metadata": {},
     "output_type": "execute_result"
    }
   ],
   "source": [
    "# calculate the tf-idf (use sublinear_tf = True)\n",
    "\n",
    "from sklearn.feature_extraction.text import TfidfVectorizer\n",
    "\n",
    "vec = TfidfVectorizer(tokenizer = nltk.word_tokenize)\n",
    "tfidf1 = vec.fit_transform(ham_3)\n",
    "\n",
    "\n",
    "vec = TfidfVectorizer(tokenizer = nltk.word_tokenize, sublinear_tf = True)\n",
    "tfidf2 = vec.fit_transform(ham_3)\n",
    "\n",
    "\n",
    "tfidf1.todense()\n",
    "tfidf2.todense()"
   ]
  },
  {
   "cell_type": "code",
   "execution_count": 38,
   "id": "7ffcdf17",
   "metadata": {},
   "outputs": [
    {
     "data": {
      "text/plain": [
       "matrix([[1.        , 0.16530799, 0.        ],\n",
       "        [0.16530799, 1.        , 0.        ],\n",
       "        [0.        , 0.        , 1.        ]])"
      ]
     },
     "execution_count": 38,
     "metadata": {},
     "output_type": "execute_result"
    }
   ],
   "source": [
    "# measure the cosine similarity between the three sentences\n",
    "\n",
    "(tfidf2 @ tfidf2.T).todense()"
   ]
  },
  {
   "cell_type": "code",
   "execution_count": 39,
   "id": "28e9a46f",
   "metadata": {},
   "outputs": [
    {
     "data": {
      "text/plain": [
       "[(\"'t\", 'is'),\n",
       " (',', 'and'),\n",
       " (',', 'get'),\n",
       " (':', \"'t\"),\n",
       " ('am', 'sicke'),\n",
       " ('and', 'i'),\n",
       " ('at', 'heart'),\n",
       " ('barn', '.'),\n",
       " ('bed', 'francisco'),\n",
       " ('bitter', 'cold'),\n",
       " ('cold', ','),\n",
       " ('for', 'this'),\n",
       " ('fran', '.'),\n",
       " ('francisco', 'fran'),\n",
       " ('get', 'thee'),\n",
       " ('guard', '?'),\n",
       " ('had', 'quiet'),\n",
       " ('haue', 'you'),\n",
       " ('heart', 'barn'),\n",
       " ('i', 'am'),\n",
       " ('is', 'bitter'),\n",
       " ('is', 'now'),\n",
       " ('much', 'thankes'),\n",
       " ('now', 'strook'),\n",
       " ('quiet', 'guard'),\n",
       " ('releefe', 'much'),\n",
       " ('sicke', 'at'),\n",
       " ('strook', 'twelue'),\n",
       " ('thankes', ':'),\n",
       " ('thee', 'to'),\n",
       " ('this', 'releefe'),\n",
       " ('to', 'bed'),\n",
       " ('twelue', ','),\n",
       " ('you', 'had')]"
      ]
     },
     "execution_count": 39,
     "metadata": {},
     "output_type": "execute_result"
    }
   ],
   "source": [
    "# calculate the tf-idf using the bi-gram model \n",
    "words = [nltk.word_tokenize(doc) for doc in ham_3]\n",
    "list(nltk.ngrams(words[0], 3))\n",
    "\n",
    "list(nltk.ngrams(words[0], 2))\n",
    "\n",
    "words = [nltk.word_tokenize(d.lower()) for d in ham_3]\n",
    "\n",
    "vectorizer = TfidfVectorizer(tokenizer = nltk.bigrams, lowercase = False)\n",
    "tfidf = vectorizer.fit_transform(words)\n",
    "\n",
    "tfidf.todense()\n",
    "\n",
    "# Now each column corresponds to one bigram.\n",
    "vectorizer.get_feature_names()"
   ]
  },
  {
   "cell_type": "code",
   "execution_count": 40,
   "id": "18c3045f",
   "metadata": {},
   "outputs": [
    {
     "data": {
      "text/plain": [
       "matrix([[1.        , 0.04054282, 0.        ],\n",
       "        [0.04054282, 1.        , 0.        ],\n",
       "        [0.        , 0.        , 1.        ]])"
      ]
     },
     "execution_count": 40,
     "metadata": {},
     "output_type": "execute_result"
    }
   ],
   "source": [
    "#then measure the cosine similarity between the three sentences\n",
    "\n",
    "(tfidf @ tfidf.T).todense()\n"
   ]
  }
 ],
 "metadata": {
  "kernelspec": {
   "display_name": "Python 3 (ipykernel)",
   "language": "python",
   "name": "python3"
  },
  "language_info": {
   "codemirror_mode": {
    "name": "ipython",
    "version": 3
   },
   "file_extension": ".py",
   "mimetype": "text/x-python",
   "name": "python",
   "nbconvert_exporter": "python",
   "pygments_lexer": "ipython3",
   "version": "3.9.7"
  }
 },
 "nbformat": 4,
 "nbformat_minor": 5
}
